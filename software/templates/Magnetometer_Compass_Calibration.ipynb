{
 "cells": [
  {
   "cell_type": "markdown",
   "id": "66ac7d11",
   "metadata": {},
   "source": [
    "# Lab 3: Compass Heading"
   ]
  },
  {
   "cell_type": "markdown",
   "id": "48ca6417",
   "metadata": {},
   "source": [
    "## Reading the Raw Magnetometer Values"
   ]
  },
  {
   "cell_type": "code",
   "execution_count": null,
   "id": "8e5d3e37",
   "metadata": {},
   "outputs": [],
   "source": [
    "%matplotlib notebook\n",
    "\n",
    "import board\n",
    "import adafruit_bno055\n",
    "\n",
    "import time\n",
    "import numpy as np\n",
    "import matplotlib.pyplot as plt\n",
    "import matplotlib.animation as animation\n",
    "\n",
    "i2c = board.I2C()\n",
    "imu = adafruit_bno055.BNO055_I2C(i2c)\n",
    "imu.mode = adafruit_bno055.MAGONLY_MODE\n",
    "\n",
    "window = 100\n",
    "interval = 1/20\n",
    "\n",
    "x_raw = []\n",
    "y_raw = []\n",
    "z_raw = []\n",
    "h = []\n",
    "t = []"
   ]
  },
  {
   "cell_type": "code",
   "execution_count": null,
   "id": "39e0e9a0",
   "metadata": {},
   "outputs": [],
   "source": [
    "fig, ax = plt.subplots()\n",
    "\n",
    "plt.title(\"Raw Magnetometer Readings vs Time\")\n",
    "plt.xlabel(\"Time (s)\")\n",
    "plt.ylabel(\"Magnetic Field (μT)\")\n",
    "plt.ylim(-175,175)\n",
    "\n",
    "def animate(i):\n",
    "    \n",
    "    x, y, z = imu.magnetic\n",
    "\n",
    "    x_raw.append(x)\n",
    "    y_raw.append(y)\n",
    "    z_raw.append(z)\n",
    "\n",
    "    t.append(time.monotonic()-start_time)\n",
    "    \n",
    "    plt.scatter(t, x_raw, s=1, color='r')\n",
    "    plt.scatter(t, y_raw, s=1, color='g')\n",
    "    plt.scatter(t, z_raw, s=1, color='b')\n",
    "\n",
    "start_time = time.monotonic()\n",
    "\n",
    "x_raw.clear()\n",
    "y_raw.clear()\n",
    "z_raw.clear()\n",
    "\n",
    "ani = animation.FuncAnimation(fig, animate, interval=100)\n",
    "plt.show()"
   ]
  },
  {
   "cell_type": "markdown",
   "id": "20a5c2b4",
   "metadata": {},
   "source": [
    "## Using Magnetometer Readings To Get A Compass Heading"
   ]
  },
  {
   "cell_type": "code",
   "execution_count": null,
   "id": "3b62d61d",
   "metadata": {
    "scrolled": true
   },
   "outputs": [],
   "source": [
    "x_raw.clear()\n",
    "y_raw.clear()\n",
    "z_raw.clear()\n",
    "t.clear()\n",
    "\n",
    "fig, ax = plt.subplots()\n",
    "ax.set_aspect(1)\n",
    "\n",
    "# plt.xlim(-60, 60)\n",
    "# plt.ylim(-60, 60)\n",
    "\n",
    "plt.title(\"Raw Magnetometer Readings\")\n",
    "plt.xlabel(\"Magnetic Field in the X Direction (μT)\")\n",
    "plt.ylabel(\"Magnetic Field in the Y Direction (μT)\")\n",
    "\n",
    "def animate(i):\n",
    "    \n",
    "    x, y, z = imu.magnetic\n",
    "\n",
    "    if abs(x) < 500 or abs(y) < 500 or abs(z) < 500:\n",
    "        x_raw.append(x)\n",
    "        y_raw.append(y)\n",
    "        z_raw.append(z)\n",
    "\n",
    "    plt.scatter(x_raw, y_raw, color='r')\n",
    "    plt.scatter(y_raw, z_raw, color='g')\n",
    "    plt.scatter(z_raw, x_raw, color='b')\n",
    "\n",
    "    plt.pause(interval)\n",
    "    \n",
    "ani = animation.FuncAnimation(fig, animate, interval=100)\n",
    "plt.show()"
   ]
  },
  {
   "cell_type": "markdown",
   "id": "4d45f53b",
   "metadata": {},
   "source": [
    "## Calibrate the Magnetometer"
   ]
  },
  {
   "cell_type": "code",
   "execution_count": null,
   "id": "78ef2935",
   "metadata": {},
   "outputs": [],
   "source": [
    "x_min = min(x_raw)\n",
    "x_max = max(x_raw)\n",
    "y_min = min(y_raw)\n",
    "y_max = max(y_raw)\n",
    "z_min = min(z_raw)\n",
    "z_max = max(z_raw)\n",
    "\n",
    "print(\"X range: \", x_min, x_max)\n",
    "print(\"Y range: \", y_min, y_max)\n",
    "print(\"Z range: \", z_min, z_max)\n",
    "\n",
    "mag_calibration = [ (x_max + x_min) / 2, (y_max + y_min) / 2, (z_max + z_min) / 2]\n",
    "print(\"Final calibration in uTesla:\", mag_calibration)\n",
    "\n",
    "cal_mag_x = [x - mag_calibration[0] for x in x_raw]\n",
    "cal_mag_y = [y - mag_calibration[1] for y in y_raw]\n",
    "cal_mag_z = [z - mag_calibration[2] for z in z_raw]\n",
    "\n",
    "fig, ax = plt.subplots(1, 1)\n",
    "ax.set_aspect(1)\n",
    "\n",
    "# Clear all axis\n",
    "ax.cla()\n",
    "\n",
    "# Display the now calibrated data\n",
    "ax.scatter(cal_mag_x, cal_mag_y, color='r')\n",
    "ax.scatter(cal_mag_y, cal_mag_z, color='g')\n",
    "ax.scatter(cal_mag_z, cal_mag_x, color='b')\n",
    "fig.show()"
   ]
  },
  {
   "cell_type": "code",
   "execution_count": null,
   "id": "e59f4dd5",
   "metadata": {},
   "outputs": [],
   "source": [
    "x_raw.clear()\n",
    "y_raw.clear()\n",
    "z_raw.clear()\n",
    "t.clear()\n",
    "\n",
    "fig, ax = plt.subplots()\n",
    "ax.set_aspect(1)\n",
    "\n",
    "plt.title(\"Raw Magnetometer Readings\")\n",
    "plt.xlabel(\"Magnetic Field in the X Direction (μT)\")\n",
    "plt.ylabel(\"Magnetic Field in the Y Direction (μT)\")\n",
    "\n",
    "def animate(i):\n",
    "    \n",
    "    x, y, z = imu.magnetic\n",
    "\n",
    "    x -= mag_calibration[0]\n",
    "    y -= mag_calibration[1]\n",
    "    z -= mag_calibration[2]\n",
    "\n",
    "    if abs(x) < 500 or abs(y) < 500 or abs(z) < 500:\n",
    "        x_raw.append(x)\n",
    "        y_raw.append(y)\n",
    "        z_raw.append(z)\n",
    "\n",
    "    plt.scatter(x_raw, y_raw, color='r')\n",
    "    plt.scatter(y_raw, z_raw, color='g')\n",
    "    plt.scatter(z_raw, x_raw, color='b')\n",
    "\n",
    "    plt.pause(interval)\n",
    "    \n",
    "ani = animation.FuncAnimation(fig, animate, interval=100)\n",
    "plt.show()"
   ]
  },
  {
   "cell_type": "markdown",
   "id": "7bcdb155",
   "metadata": {},
   "source": [
    "### Calculate A Compass Heading"
   ]
  },
  {
   "cell_type": "code",
   "execution_count": null,
   "id": "3be57abf",
   "metadata": {},
   "outputs": [],
   "source": [
    "fig, ax1 = plt.subplots()\n",
    "\n",
    "plt.title(\"Heading vs Time\")\n",
    "plt.xlabel(\"Time (s)\")\n",
    "plt.ylabel(\"Heading (degrees)\")\n",
    "plt.grid(axis = 'y')\n",
    "\n",
    "declination_angle = 7\n",
    "\n",
    "plt.ylim(-200, 200)\n",
    "\n",
    "x_raw.clear()\n",
    "y_raw.clear()\n",
    "t.clear()\n",
    "\n",
    "def animate(i):\n",
    "    \n",
    "    x, y, z = imu.magnetic\n",
    "\n",
    "    x -= mag_calibration[0]\n",
    "    y -= mag_calibration[1]\n",
    "    z -= mag_calibration[2]\n",
    "        \n",
    "    t.append(time.monotonic()-start_time)\n",
    "    \n",
    "    heading = np.arctan2(y,x)\n",
    "    h.append(np.degrees(heading)-declination_angle)\n",
    "    \n",
    "    plt.scatter(t, h, s=1, color='r')\n",
    "    \n",
    "ani = animation.FuncAnimation(fig, animate, interval=100)\n",
    "plt.show()"
   ]
  },
  {
   "cell_type": "code",
   "execution_count": null,
   "id": "885da0d7",
   "metadata": {},
   "outputs": [],
   "source": []
  }
 ],
 "metadata": {
  "kernelspec": {
   "display_name": "Python 3",
   "language": "python",
   "name": "python3"
  },
  "language_info": {
   "codemirror_mode": {
    "name": "ipython",
    "version": 3
   },
   "file_extension": ".py",
   "mimetype": "text/x-python",
   "name": "python",
   "nbconvert_exporter": "python",
   "pygments_lexer": "ipython3",
   "version": "3.9.1 (v3.9.1:1e5d33e9b9, Dec  7 2020, 12:10:52) \n[Clang 6.0 (clang-600.0.57)]"
  },
  "vscode": {
   "interpreter": {
    "hash": "aee8b7b246df8f9039afb4144a1f6fd8d2ca17a180786b69acc140d282b71a49"
   }
  }
 },
 "nbformat": 4,
 "nbformat_minor": 5
}
